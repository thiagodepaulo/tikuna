{
 "cells": [
  {
   "cell_type": "code",
   "execution_count": 44,
   "metadata": {},
   "outputs": [],
   "source": [
    "#PyMuPDF\n",
    "import fitz\n",
    "\n",
    "def extract_text_from_pdf(pdf_path):\n",
    "    text = \"\"\n",
    "    with fitz.open(pdf_path) as doc:\n",
    "        for page in doc:\n",
    "            text += page.get_text()\n",
    "    return text\n",
    "\n",
    "def write_to_file(output_file, text):\n",
    "    with open(output_file, \"w\") as file:\n",
    "        file.write(text)\n",
    "\n",
    "pdf_path = [\"Alviano_1945_IndiosTicunas - Dicionarios.pdf\", \"Antigo_Testamento.pdf\", \n",
    "            \"Binário e Decimal Tradução Ticuna - v2.pdf\", \"folder_LC_v5.pdf\", \"Novo_Testamento.pdf\"]\n"
   ]
  },
  {
   "cell_type": "code",
   "execution_count": 45,
   "metadata": {},
   "outputs": [
    {
     "name": "stdout",
     "output_type": "stream",
     "text": [
      "Alviano_1945_IndiosTicunas - Dicionarios.pdf\n",
      "Antigo_Testamento.pdf\n",
      "Binário e Decimal Tradução Ticuna - v2.pdf\n",
      "folder_LC_v5.pdf\n",
      "Novo_Testamento.pdf\n"
     ]
    }
   ],
   "source": [
    "for pdf_file_name in pdf_path:\n",
    "    text = extract_text_from_pdf(pdf_file_name)\n",
    "    pdf_file_path = pdf_file_name.replace(\".pdf\",\"\")\n",
    "    print(pdf_file_name)\n",
    "    write_to_file(\"raw_text/\"+pdf_file_name + \".txt\", text)"
   ]
  },
  {
   "cell_type": "code",
   "execution_count": 46,
   "metadata": {},
   "outputs": [],
   "source": [
    "text = extract_text_from_pdf(pdf_path[1])"
   ]
  },
  {
   "cell_type": "code",
   "execution_count": 48,
   "metadata": {},
   "outputs": [
    {
     "data": {
      "text/plain": [
       "['NÜXÍRAXÜ̃XÜ̃', 'I', 'TU']"
      ]
     },
     "execution_count": 48,
     "metadata": {},
     "output_type": "execute_result"
    }
   ],
   "source": [
    "text[:30].split()"
   ]
  }
 ],
 "metadata": {
  "kernelspec": {
   "display_name": "Python 3",
   "language": "python",
   "name": "python3"
  },
  "language_info": {
   "codemirror_mode": {
    "name": "ipython",
    "version": 3
   },
   "file_extension": ".py",
   "mimetype": "text/x-python",
   "name": "python",
   "nbconvert_exporter": "python",
   "pygments_lexer": "ipython3",
   "version": "3.9.13"
  }
 },
 "nbformat": 4,
 "nbformat_minor": 2
}
